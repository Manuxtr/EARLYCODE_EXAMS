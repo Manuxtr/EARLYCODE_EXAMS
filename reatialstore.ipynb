{
 "cells": [
  {
   "cell_type": "markdown",
   "metadata": {},
   "source": [
    "In a retail store, how can you use a function to calculate the total cost of a customer's purchase, including discounts and sales tax?\n",
    " "
   ]
  },
  {
   "cell_type": "code",
   "execution_count": 4,
   "metadata": {},
   "outputs": [
    {
     "name": "stdout",
     "output_type": "stream",
     "text": [
      "your total price is 2000 \n",
      "you have a discount of 500 \n",
      "sales tax is 200\n"
     ]
    }
   ],
   "source": [
    "totalprice=2000\n",
    "discount=500\n",
    "taxsales=200\n",
    "print(f'your total price is {totalprice} \\nyou have a discount of {discount} \\nsales tax is {taxsales}')"
   ]
  },
  {
   "cell_type": "markdown",
   "metadata": {},
   "source": []
  }
 ],
 "metadata": {
  "kernelspec": {
   "display_name": "Python 3",
   "language": "python",
   "name": "python3"
  },
  "language_info": {
   "codemirror_mode": {
    "name": "ipython",
    "version": 3
   },
   "file_extension": ".py",
   "mimetype": "text/x-python",
   "name": "python",
   "nbconvert_exporter": "python",
   "pygments_lexer": "ipython3",
   "version": "3.12.4"
  }
 },
 "nbformat": 4,
 "nbformat_minor": 2
}
