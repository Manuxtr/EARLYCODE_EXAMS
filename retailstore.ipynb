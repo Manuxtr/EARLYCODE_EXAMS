{
 "cells": [
  {
   "cell_type": "markdown",
   "metadata": {},
   "source": [
    "In a retail store, how can you use a function to calculate the total cost of a customer's purchase, including discounts and sales tax?\n",
    " "
   ]
  },
  {
   "cell_type": "code",
   "execution_count": 2,
   "metadata": {},
   "outputs": [
    {
     "name": "stdout",
     "output_type": "stream",
     "text": [
      "2000.0\n",
      "your total price is 2000.0 \n",
      "discounted to 1800.0 \n",
      "and sales tax is 100.0\n"
     ]
    }
   ],
   "source": [
    "retail_price=float(input('enter price of item'))\n",
    "quantity=float(input('enter quantity'))\n",
    "totalprice=retail_price * quantity\n",
    "print(totalprice)\n",
    "discount=int(input('enter discount percentage'))\n",
    "discount_price=totalprice-(discount / 100* totalprice)\n",
    "tax=int(input('enter sales tax percentage'))\n",
    "sales_tax=(tax / 100)*retail_price\n",
    "print(f'your total price is {totalprice} \\ndiscounted to {discount_price} \\nand sales tax is {sales_tax}')\n",
    "\n",
    "\n",
    "\n",
    "\n"
   ]
  },
  {
   "cell_type": "markdown",
   "metadata": {},
   "source": []
  }
 ],
 "metadata": {
  "kernelspec": {
   "display_name": "Python 3",
   "language": "python",
   "name": "python3"
  },
  "language_info": {
   "codemirror_mode": {
    "name": "ipython",
    "version": 3
   },
   "file_extension": ".py",
   "mimetype": "text/x-python",
   "name": "python",
   "nbconvert_exporter": "python",
   "pygments_lexer": "ipython3",
   "version": "3.12.4"
  }
 },
 "nbformat": 4,
 "nbformat_minor": 2
}
